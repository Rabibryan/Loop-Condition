{
 "cells": [
  {
   "cell_type": "markdown",
   "metadata": {},
   "source": [
    "## Loop and condition"
   ]
  },
  {
   "cell_type": "markdown",
   "metadata": {},
   "source": [
    "#### for loop and while loop"
   ]
  },
  {
   "cell_type": "code",
   "execution_count": 2,
   "metadata": {},
   "outputs": [
    {
     "name": "stdout",
     "output_type": "stream",
     "text": [
      "appple\n",
      "grape\n",
      "greetings\n",
      "kerosene\n",
      "mobile\n"
     ]
    }
   ],
   "source": [
    "L =['appple','grape','greetings','kerosene','mobile']\n",
    "for item in L:\n",
    "    print(item)\n"
   ]
  },
  {
   "cell_type": "markdown",
   "metadata": {},
   "source": [
    "Range "
   ]
  },
  {
   "cell_type": "code",
   "execution_count": 3,
   "metadata": {},
   "outputs": [
    {
     "data": {
      "text/plain": [
       "(range(0, 5), range(1, 50), 1225)"
      ]
     },
     "execution_count": 3,
     "metadata": {},
     "output_type": "execute_result"
    }
   ],
   "source": [
    "range(5),range(1,50),sum(range(50))"
   ]
  },
  {
   "cell_type": "markdown",
   "metadata": {},
   "source": [
    "Iterating loop and adding the iterTing index to blank list"
   ]
  },
  {
   "cell_type": "code",
   "execution_count": 5,
   "metadata": {},
   "outputs": [
    {
     "data": {
      "text/plain": [
       "[0, 5, 10, 15, 20, 25, 30, 35, 40, 45]"
      ]
     },
     "execution_count": 5,
     "metadata": {},
     "output_type": "execute_result"
    }
   ],
   "source": [
    "L = []\n",
    "for k in range(10):\n",
    "    L.append(5*k)   # multiple of 5\n",
    "L"
   ]
  },
  {
   "cell_type": "markdown",
   "metadata": {},
   "source": [
    "Double loop or nested for loop"
   ]
  },
  {
   "cell_type": "markdown",
   "metadata": {},
   "source": [
    "###### Create a double loop with i and j with range 10 and also populate the dictionary with key as   (i,j) and    value as   10*i +j  when i=j and 100*i+j when i! =j"
   ]
  },
  {
   "cell_type": "code",
   "execution_count": 11,
   "metadata": {},
   "outputs": [
    {
     "name": "stdout",
     "output_type": "stream",
     "text": [
      "{(0, 0): 0, (0, 1): 1, (0, 2): 2, (0, 3): 3, (0, 4): 4, (0, 5): 5, (0, 6): 6, (0, 7): 7, (0, 8): 8, (0, 9): 9, (1, 0): 100, (1, 1): 11, (1, 2): 102, (1, 3): 103, (1, 4): 104, (1, 5): 105, (1, 6): 106, (1, 7): 107, (1, 8): 108, (1, 9): 109, (2, 0): 200, (2, 1): 201, (2, 2): 22, (2, 3): 203, (2, 4): 204, (2, 5): 205, (2, 6): 206, (2, 7): 207, (2, 8): 208, (2, 9): 209, (3, 0): 300, (3, 1): 301, (3, 2): 302, (3, 3): 33, (3, 4): 304, (3, 5): 305, (3, 6): 306, (3, 7): 307, (3, 8): 308, (3, 9): 309, (4, 0): 400, (4, 1): 401, (4, 2): 402, (4, 3): 403, (4, 4): 44, (4, 5): 405, (4, 6): 406, (4, 7): 407, (4, 8): 408, (4, 9): 409, (5, 0): 500, (5, 1): 501, (5, 2): 502, (5, 3): 503, (5, 4): 504, (5, 5): 55, (5, 6): 506, (5, 7): 507, (5, 8): 508, (5, 9): 509, (6, 0): 600, (6, 1): 601, (6, 2): 602, (6, 3): 603, (6, 4): 604, (6, 5): 605, (6, 6): 66, (6, 7): 607, (6, 8): 608, (6, 9): 609, (7, 0): 700, (7, 1): 701, (7, 2): 702, (7, 3): 703, (7, 4): 704, (7, 5): 705, (7, 6): 706, (7, 7): 77, (7, 8): 708, (7, 9): 709, (8, 0): 800, (8, 1): 801, (8, 2): 802, (8, 3): 803, (8, 4): 804, (8, 5): 805, (8, 6): 806, (8, 7): 807, (8, 8): 88, (8, 9): 809, (9, 0): 900, (9, 1): 901, (9, 2): 902, (9, 3): 903, (9, 4): 904, (9, 5): 905, (9, 6): 906, (9, 7): 907, (9, 8): 908, (9, 9): 99}\n"
     ]
    }
   ],
   "source": [
    "D ={}\n",
    "for i in range(10):\n",
    "    for j in range(10):\n",
    "        if i == j:\n",
    "            D.update({(i,j) : 10*i +j})\n",
    "        elif i!= j:\n",
    "            D.update({(i,j) : 100*i +j})\n",
    "print(D)"
   ]
  },
  {
   "cell_type": "markdown",
   "metadata": {},
   "source": [
    "To iterate two elements from two seperate Lists. It is not like nested for loop."
   ]
  },
  {
   "cell_type": "code",
   "execution_count": 17,
   "metadata": {},
   "outputs": [
    {
     "name": "stdout",
     "output_type": "stream",
     "text": [
      "apple @ 0 @ 12\n",
      "banana @ 1 @ 34\n",
      "kite @ 2 @ 55\n",
      "cellophone @ 3 @ 36\n",
      "pencil @ 4 @ 87\n"
     ]
    }
   ],
   "source": [
    "for item ,j,k in zip(['apple','banana','kite','cellophone','pencil'],\\\n",
    "                    range(5),[12,34,55,36,87]):\n",
    "    print(item,\"@\",j,\"@\",k)"
   ]
  },
  {
   "cell_type": "markdown",
   "metadata": {},
   "source": [
    "To iterate and ennumerate both together"
   ]
  },
  {
   "cell_type": "code",
   "execution_count": 18,
   "metadata": {},
   "outputs": [
    {
     "name": "stdout",
     "output_type": "stream",
     "text": [
      "The 0 th element is:  pen\n",
      "The 1 th element is:  jug\n",
      "The 2 th element is:  copy\n",
      "The 3 th element is:  jellifish\n",
      "The 4 th element is:  blackhole\n"
     ]
    }
   ],
   "source": [
    "for i,item in enumerate(['pen','jug','copy','jellifish','blackhole']):\n",
    "        print(\"The\",i,\"th element is: \",item)"
   ]
  },
  {
   "cell_type": "markdown",
   "metadata": {},
   "source": [
    "To create a list with for loop"
   ]
  },
  {
   "cell_type": "code",
   "execution_count": 21,
   "metadata": {},
   "outputs": [
    {
     "name": "stdout",
     "output_type": "stream",
     "text": [
      "[1, 48, 165, 352, 609, 936, 1333, 1800, 2337, 2944, 3621, 4368, 5185, 6072, 7029, 8056, 9153, 10320, 11557, 12864, 14241, 15688, 17205, 18792, 20449, 22176, 23973, 25840, 27777, 29784, 31861, 34008, 36225, 38512, 40869, 43296, 45793, 48360, 50997, 53704, 56481, 59328, 62245, 65232, 68289, 71416, 74613, 77880, 81217, 84624]\n"
     ]
    }
   ],
   "source": [
    "A = [35*k**2+12*k+1 for k in range(50)]\n",
    "print(A)"
   ]
  },
  {
   "cell_type": "code",
   "execution_count": 23,
   "metadata": {},
   "outputs": [
    {
     "name": "stdout",
     "output_type": "stream",
     "text": [
      "[[3, 9, 27, 57, 99], [8, 14, 32, 62, 104], [13, 19, 37, 67, 109], [18, 24, 42, 72, 114], [23, 29, 47, 77, 119]]\n"
     ]
    }
   ],
   "source": [
    "B = [[6*x**2+5*y+3 for x in range(5)]for y in range(5)]\n",
    "print(B)"
   ]
  },
  {
   "cell_type": "markdown",
   "metadata": {},
   "source": [
    "To iterate over list of list"
   ]
  },
  {
   "cell_type": "code",
   "execution_count": 25,
   "metadata": {},
   "outputs": [
    {
     "name": "stdout",
     "output_type": "stream",
     "text": [
      "The ( 0 , 0 ) th element is: 3\n",
      "The ( 0 , 1 ) th element is: 9\n",
      "The ( 0 , 2 ) th element is: 27\n",
      "The ( 0 , 3 ) th element is: 57\n",
      "The ( 0 , 4 ) th element is: 99\n",
      "The ( 1 , 0 ) th element is: 8\n",
      "The ( 1 , 1 ) th element is: 14\n",
      "The ( 1 , 2 ) th element is: 32\n",
      "The ( 1 , 3 ) th element is: 62\n",
      "The ( 1 , 4 ) th element is: 104\n",
      "The ( 2 , 0 ) th element is: 13\n",
      "The ( 2 , 1 ) th element is: 19\n",
      "The ( 2 , 2 ) th element is: 37\n",
      "The ( 2 , 3 ) th element is: 67\n",
      "The ( 2 , 4 ) th element is: 109\n",
      "The ( 3 , 0 ) th element is: 18\n",
      "The ( 3 , 1 ) th element is: 24\n",
      "The ( 3 , 2 ) th element is: 42\n",
      "The ( 3 , 3 ) th element is: 72\n",
      "The ( 3 , 4 ) th element is: 114\n",
      "The ( 4 , 0 ) th element is: 23\n",
      "The ( 4 , 1 ) th element is: 29\n",
      "The ( 4 , 2 ) th element is: 47\n",
      "The ( 4 , 3 ) th element is: 77\n",
      "The ( 4 , 4 ) th element is: 119\n"
     ]
    }
   ],
   "source": [
    "for i in range(5):\n",
    "    for j in range(5):\n",
    "        print(\"The\",\"(\",i,\",\",j,\")\",\"th element is:\",B[i][j])"
   ]
  },
  {
   "cell_type": "markdown",
   "metadata": {},
   "source": [
    "### While loop"
   ]
  },
  {
   "cell_type": "code",
   "execution_count": 28,
   "metadata": {},
   "outputs": [
    {
     "name": "stdout",
     "output_type": "stream",
     "text": [
      "0 th turn\n",
      "1 th turn\n",
      "2 th turn\n",
      "3 th turn\n",
      "4 th turn\n",
      "5 th turn\n",
      "6 th turn\n"
     ]
    }
   ],
   "source": [
    "i=0\n",
    "while i<7:\n",
    "    print(i,\"th turn\")\n",
    "    i=i+1"
   ]
  },
  {
   "cell_type": "markdown",
   "metadata": {},
   "source": [
    "To break for loop implementing if condition"
   ]
  },
  {
   "cell_type": "code",
   "execution_count": 34,
   "metadata": {},
   "outputs": [
    {
     "name": "stdout",
     "output_type": "stream",
     "text": [
      "0\n",
      "1\n",
      "2\n",
      "3\n",
      "4\n",
      "5\n"
     ]
    }
   ],
   "source": [
    "for i in range(10):\n",
    "    print(i)\n",
    "    if i==5:\n",
    "        break"
   ]
  },
  {
   "cell_type": "markdown",
   "metadata": {},
   "source": [
    "Testing of if conditions"
   ]
  },
  {
   "cell_type": "code",
   "execution_count": 42,
   "metadata": {},
   "outputs": [
    {
     "name": "stdout",
     "output_type": "stream",
     "text": [
      "It is samaller than 10 and greater than 8 | 9.21353142548701\n",
      "It is samaller than 4 and greater than 2 | 3.119522976635087\n",
      "It is samaller than 10 and greater than 8 | 8.529245718856446\n",
      "It is samaller than 8 and greater than 6 | 7.413678937444872\n",
      "It is samaller than 4 and greater than 2 | 2.129081832809499\n",
      "It is samaller than 2 and greater than 1 | 1.1633163708194947\n",
      "It is samaller than 10 and greater than 8 | 9.894697956002473\n",
      "It is samaller than 4 and greater than 2 | 2.8233564849835977\n",
      "It is samaller than 6 and greater than 4 | 4.8628386972974855\n",
      "It is samaller than 10 and greater than 8 | 8.983085709132204\n"
     ]
    }
   ],
   "source": [
    "import random as random\n",
    "\n",
    "for i in range(10):\n",
    "    r = random.uniform(1,10)\n",
    "    if r<2 and r>0:\n",
    "        print(\"It is samaller than 2 and greater than 1\",\"|\", r)\n",
    "    elif r<4 and r>2:\n",
    "        print(\"It is samaller than 4 and greater than 2\",\"|\", r)\n",
    "    elif r<6 and r>4:\n",
    "        print(\"It is samaller than 6 and greater than 4\",\"|\", r)\n",
    "    elif r<8 and r>6:\n",
    "        print(\"It is samaller than 8 and greater than 6\",\"|\", r)\n",
    "    elif r<10 and r>8:\n",
    "        print(\"It is samaller than 10 and greater than 8\",\"|\", r)"
   ]
  },
  {
   "cell_type": "code",
   "execution_count": 43,
   "metadata": {},
   "outputs": [
    {
     "name": "stdout",
     "output_type": "stream",
     "text": [
      "It is samaller than 8 and greater than 6 | 7.116042632472333\n",
      "It is samaller than 6 and greater than 4 | 5.156094055740668\n",
      "It is samaller than 10 and greater than 8 | 8.060293401216352\n",
      "It is samaller than 4 and greater than 2 | 2.400097931646923\n",
      "It is samaller than 10 and greater than 8 | 9.317430186775614\n"
     ]
    }
   ],
   "source": [
    "import random as random\n",
    "\n",
    "for i in range(5):\n",
    "    r = random.uniform(1,10)\n",
    "    if r<2 and r>0:\n",
    "        print(\"It is samaller than 2 and greater than 1\",\"|\", r)\n",
    "    elif r<4 and r>2:\n",
    "        print(\"It is samaller than 4 and greater than 2\",\"|\", r)\n",
    "    elif r<6 and r>4:\n",
    "        print(\"It is samaller than 6 and greater than 4\",\"|\", r)\n",
    "    elif r<8 and r>6:\n",
    "        print(\"It is samaller than 8 and greater than 6\",\"|\", r)\n",
    "    elif r<10 and r>8:\n",
    "        print(\"It is samaller than 10 and greater than 8\",\"|\", r)"
   ]
  },
  {
   "cell_type": "code",
   "execution_count": 44,
   "metadata": {},
   "outputs": [
    {
     "name": "stdout",
     "output_type": "stream",
     "text": [
      "It is samaller than 6 and greater than 4 | 4.956695200877877\n",
      "It is samaller than 6 and greater than 4 | 4.772395956806793\n",
      "It is samaller than 8 and greater than 6 | 6.122171687918092\n",
      "It is samaller than 10 and greater than 8 | 9.545200432090455\n",
      "It is samaller than 8 and greater than 6 | 7.97811315274013\n",
      "It is samaller than 6 and greater than 4 | 4.060186758165481\n",
      "It is samaller than 8 and greater than 6 | 7.8111012819566\n",
      "It is samaller than 6 and greater than 4 | 4.330841020331907\n",
      "It is samaller than 10 and greater than 8 | 8.03203613064867\n",
      "It is samaller than 10 and greater than 8 | 9.55622724319506\n"
     ]
    }
   ],
   "source": [
    "import random as random\n",
    "\n",
    "for i in range(10):\n",
    "    r = random.uniform(4,10)\n",
    "    if r<2 and r>0:\n",
    "        print(\"It is samaller than 2 and greater than 1\",\"|\", r)\n",
    "    elif r<4 and r>2:\n",
    "        print(\"It is samaller than 4 and greater than 2\",\"|\", r)\n",
    "    elif r<6 and r>4:\n",
    "        print(\"It is samaller than 6 and greater than 4\",\"|\", r)\n",
    "    elif r<8 and r>6:\n",
    "        print(\"It is samaller than 8 and greater than 6\",\"|\", r)\n",
    "    elif r<10 and r>8:\n",
    "        print(\"It is samaller than 10 and greater than 8\",\"|\", r)"
   ]
  },
  {
   "cell_type": "markdown",
   "metadata": {},
   "source": [
    "To find the sum from 0 to 1000"
   ]
  },
  {
   "cell_type": "code",
   "execution_count": 53,
   "metadata": {},
   "outputs": [
    {
     "data": {
      "text/plain": [
       "500500"
      ]
     },
     "execution_count": 53,
     "metadata": {},
     "output_type": "execute_result"
    }
   ],
   "source": [
    "s=0\n",
    "for i in range(1000+1):\n",
    "    s=s+i\n",
    "s"
   ]
  },
  {
   "cell_type": "markdown",
   "metadata": {},
   "source": [
    "To find sum from 0 to 1000(only even)"
   ]
  },
  {
   "cell_type": "code",
   "execution_count": 58,
   "metadata": {},
   "outputs": [
    {
     "data": {
      "text/plain": [
       "250500"
      ]
     },
     "execution_count": 58,
     "metadata": {},
     "output_type": "execute_result"
    }
   ],
   "source": [
    "s=0\n",
    "se=[]\n",
    "for i in range(1001):\n",
    "    if i%2==0:\n",
    "        se.append(i)\n",
    "sum(se)"
   ]
  },
  {
   "cell_type": "markdown",
   "metadata": {},
   "source": [
    "To find the sum from 0 to 1000(only odd)"
   ]
  },
  {
   "cell_type": "code",
   "execution_count": 61,
   "metadata": {},
   "outputs": [
    {
     "data": {
      "text/plain": [
       "250000"
      ]
     },
     "execution_count": 61,
     "metadata": {},
     "output_type": "execute_result"
    }
   ],
   "source": [
    "s=0\n",
    "so=[]\n",
    "for i in range(1001):\n",
    "    if i%2==1:\n",
    "        so.append(i)\n",
    "sum(so) "
   ]
  },
  {
   "cell_type": "code",
   "execution_count": null,
   "metadata": {},
   "outputs": [],
   "source": []
  }
 ],
 "metadata": {
  "kernelspec": {
   "display_name": "Python 3",
   "language": "python",
   "name": "python3"
  },
  "language_info": {
   "codemirror_mode": {
    "name": "ipython",
    "version": 3
   },
   "file_extension": ".py",
   "mimetype": "text/x-python",
   "name": "python",
   "nbconvert_exporter": "python",
   "pygments_lexer": "ipython3",
   "version": "3.7.6"
  }
 },
 "nbformat": 4,
 "nbformat_minor": 4
}
